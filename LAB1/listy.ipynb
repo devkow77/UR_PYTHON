{
 "cells": [
  {
   "cell_type": "markdown",
   "metadata": {
    "collapsed": false
   },
   "source": [
    "# Kolekcje"
   ]
  },
  {
   "cell_type": "markdown",
   "metadata": {
    "collapsed": false
   },
   "source": [
    "## Listy\n",
    "Listy w Pythonie to dynamiczne, indeksowane kolekcje, które mogą przechowywać elementy różnego typu. Są one mutowalne, co oznacza, że ich zawartość może być modyfikowana po utworzeniu — można dodawać, usuwać, lub zmieniać ich elementy. Listy pozwalają na dostęp do elementów za pomocą indeksów, które zaczynają się od zera, a także wspierają operacje takie jak cięcie (slicing), sortowanie i iterowanie. Ze względu na swoją elastyczność, listy są jednym z najczęściej używanych typów danych w Pythonie."
   ]
  },
  {
   "cell_type": "code",
   "execution_count": 39,
   "metadata": {
    "collapsed": false
   },
   "outputs": [
    {
     "name": "stdout",
     "output_type": "stream",
     "text": [
      "the_list[2] = 'dwa'\n",
      "the_list[-2] = 'cztery'\n",
      "\n",
      "the_list[1:3] = ['jeden', 'dwa']\n",
      "the_list[4:10] = ['cztery', 'pięć']\n",
      "the_list[1:3] = ['jeden', 'dwa']\n",
      "the_list[1:-1] = ['jeden', 'dwa', 'trzy', 'cztery']\n",
      "\n",
      "the_list[::2] = ['zero', 'dwa', 'cztery']\n",
      "the_list[::-1] = ['pięć', 'cztery', 'trzy', 'dwa', 'jeden', 'zero']\n"
     ]
    }
   ],
   "source": [
    "\"\"\"\n",
    "Dostęp do elementów listy\n",
    "\"\"\"\n",
    "the_list = [\"zero\", \"jeden\", \"dwa\", \"trzy\", \"cztery\", \"pięć\"]\n",
    "\n",
    "# Dostęp do elementu o indeksie\n",
    "print(f\"{the_list[2] = }\")\n",
    "print(f\"{the_list[-2] = }\", end=\"\\n\\n\")\n",
    "\n",
    "# Dostęp do elementów z zakresu\n",
    "print(f\"{the_list[1:3] = }\")\n",
    "print(f\"{the_list[4:10] = }\")  # selektor zakresu może wykraczać poza zakres listy\n",
    "print(f\"{the_list[1:3] = }\")\n",
    "\n",
    "print(f\"{the_list[1:-1] = }\", end=\"\\n\\n\")  # Negatywne wartości są dozwolone - numerowanie od końca\n",
    "\n",
    "# Wybieranie elementów z krokiem\n",
    "print(f\"{the_list[::2] = }\")  # pobranie elementów z krokiem (w tym przypadku co drugi element)\n",
    "print(f\"{the_list[::-1] = }\")  # Wyświetlenie listy w odwrotnej kolejności"
   ]
  },
  {
   "cell_type": "code",
   "execution_count": 31,
   "metadata": {
    "collapsed": false
   },
   "outputs": [
    {
     "name": "stdout",
     "output_type": "stream",
     "text": [
      "'jeden' in the_list = True\n",
      "the_list.index('dwa') = 2\n"
     ]
    }
   ],
   "source": [
    "\"\"\"\n",
    "Wyszukiwanie elementów w liście\n",
    "\"\"\"\n",
    "print(f\"{'jeden' in the_list = }\")  # sprawdzenie, czy element istnieje\n",
    "print(f\"{the_list.index('dwa') = }\")  # pobranie indeksu"
   ]
  },
  {
   "cell_type": "code",
   "execution_count": 41,
   "metadata": {
    "collapsed": false
   },
   "outputs": [
    {
     "name": "stdout",
     "output_type": "stream",
     "text": [
      "['zero', 'jeden', 'dwa', 'three', 'cztery', 'pięć']\n",
      "['zero', 'jeden', 'dwa', 'three', 'four', 'pięć']\n",
      "['zero', 'jeden', 'dwa', 'three', 'four', 'four-and-half', 'pięć']\n"
     ]
    }
   ],
   "source": [
    "\"\"\"\n",
    "Zmiana wartości elementów w liście\n",
    "\"\"\"\n",
    "the_list2 = the_list[:]  # Wykonanie płytkiej kopii\n",
    "the_list2[3] = \"three\"\n",
    "print(the_list2)\n",
    "\n",
    "the_list2 = the_list[:]\n",
    "the_list2[3:5] = [\"three\", \"four\"]  # Zamiana 'trzy' i 'cztery' na 'three' and 'four'\n",
    "print(the_list2)\n",
    "\n",
    "the_list2 = the_list[:]\n",
    "the_list2[3:5] = [\"three\", \"four\", \"four-and-half\"]  # Wstawienie wielu elementów w zakres\n",
    "print(the_list2)"
   ]
  },
  {
   "cell_type": "code",
   "execution_count": 50,
   "metadata": {
    "collapsed": false
   },
   "outputs": [
    {
     "name": "stdout",
     "output_type": "stream",
     "text": [
      "['zero', 'jeden', 'dwa', 'trzy', 'cztery', 'pięć', 'sześć']\n",
      "['zero', 'jeden', 'dwa', 'trzy', 'xxx', 'cztery', 'pięć']\n",
      "usunięto: trzy\n",
      "['zero', 'jeden', 'dwa', 'xxx', 'cztery', 'pięć']\n"
     ]
    }
   ],
   "source": [
    "\"\"\"\n",
    "Dodanie nowego elementu na koniec listy\n",
    "\"\"\"\n",
    "the_list2 = the_list[:]\n",
    "the_list2.append('sześć')\n",
    "print(the_list2)\n",
    "\n",
    "\"\"\"\n",
    "Dodanie nowego elementu na wybraną pozycję listy. Pozostałe elementy są przesuwane dalej\n",
    "\"\"\"\n",
    "the_list2 = the_list[:]\n",
    "the_list2.insert(4, 'xxx')\n",
    "print(the_list2)\n",
    "\n",
    "\"\"\"\n",
    "Usuwanie elementu z listy\n",
    "\"\"\"\n",
    "x = the_list2.pop(3)\n",
    "print(f\"usunięto: {x}\")\n",
    "print(the_list2)\n"
   ]
  },
  {
   "cell_type": "markdown",
   "metadata": {
    "collapsed": false
   },
   "source": [
    "## Operacje na listach"
   ]
  },
  {
   "cell_type": "code",
   "execution_count": 60,
   "metadata": {
    "collapsed": false
   },
   "outputs": [
    {
     "name": "stdout",
     "output_type": "stream",
     "text": [
      "zero, jeden, dwa, trzy, cztery, pięć, \n",
      "\n",
      "zero: zero\n",
      "jeden: one\n",
      "dwa: two\n",
      "trzy: three\n",
      "cztery: four\n",
      "pięć: five\n",
      "\n",
      "\n",
      "zero: zero\n",
      "jeden: one\n",
      "dwa: two\n",
      "trzy: three\n"
     ]
    }
   ],
   "source": [
    "# Iterowanie po liście\n",
    "for x in the_list:\n",
    "    print(x, end=\", \")\n",
    "print(\"\\n\")\n",
    "\n",
    "# funkcja zip pozwala na jednoczesną iterację po dwóch listach.\n",
    "the_list_eng = [\"zero\", \"one\", \"two\", \"three\", \"four\", \"five\"]\n",
    "\n",
    "for x_pl, x_en in zip(the_list, the_list_eng):\n",
    "    print(f\"{x_pl}: {x_en}\")\n",
    "print(\"\\n\")\n",
    "\n",
    "# liczba iteracji jest uzależniona od długości najkrótszej listy.\n",
    "for x_pl, x_en in zip(the_list[:-2], the_list_eng):\n",
    "    print(f\"{x_pl}: {x_en}\")"
   ]
  },
  {
   "cell_type": "markdown",
   "metadata": {
    "collapsed": false
   },
   "source": []
  },
  {
   "cell_type": "code",
   "execution_count": 70,
   "metadata": {
    "collapsed": false
   },
   "outputs": [
    {
     "name": "stdout",
     "output_type": "stream",
     "text": [
      "uppercase_list = ['ZERO', 'JEDEN', 'DWA', 'TRZY', 'CZTERY', 'PIĘĆ']\n",
      "uppercase_list = ['TRZY', 'CZTERY']\n",
      "uppercase_list = ['XXX', 'XXX', 'XXX', 'TRZY', 'CZTERY', 'XXX']\n",
      "indices = [0, 1, 2, 3, 4, 5, 6, 7, 8, 9]\n",
      "vowels_per_elem = [2, 2, 1, 1, 2, 2]\n"
     ]
    }
   ],
   "source": [
    "\"\"\"\n",
    "List Comprehension\n",
    "Składnia pozwala tworzyć nowe listy na drodze przekształceń innych list\n",
    "\"\"\"\n",
    "uppercase_list = [x.upper() for x in the_list]\n",
    "print(f\"{uppercase_list = }\")\n",
    "\n",
    "# Na końcu konstrukcji można dodać warunek - dany element zostanie\n",
    "# przekształcony i dodany do listy tylko wtedy, gdy spełnia ten warunek\n",
    "uppercase_list = [x.upper() for x in the_list if x.endswith(\"y\")]\n",
    "print(f\"{uppercase_list = }\")\n",
    "\n",
    "# Można użyć też if..else, jednak składnia jest nieco odwrotna\n",
    "uppercase_list = [x.upper() if x.endswith(\"y\") else \"XXX\" for x in the_list]\n",
    "print(f\"{uppercase_list = }\")\n",
    "\n",
    "# List Comprehension można użyć z `range` by tworzyć listy indeksów\n",
    "indices = [i for i in range(10)]\n",
    "print(f\"{indices = }\")\n",
    "\n",
    "\"\"\"\n",
    "Operacja wykonywana na liście może zostać wyrażona za pomocą funkcji\n",
    "\"\"\"\n",
    "def count_vowels(word: str) -> int:\n",
    "    vowels = 'aąeęioóuy'\n",
    "    vowels += vowels.upper()  # rozszerzenie listy liter o duże litery\n",
    "\n",
    "    vowels_count = 0\n",
    "\n",
    "    for c in word:\n",
    "        if c in vowels:\n",
    "            vowels_count += 1\n",
    "\n",
    "    return vowels_count\n",
    "\n",
    "\n",
    "vowels_per_elem = [count_vowels(word) for word in the_list]\n",
    "print(f\"{vowels_per_elem = }\")"
   ]
  },
  {
   "cell_type": "markdown",
   "metadata": {
    "collapsed": false
   },
   "source": []
  },
  {
   "cell_type": "markdown",
   "metadata": {
    "collapsed": false
   },
   "source": [
    "# Zadania"
   ]
  },
  {
   "cell_type": "markdown",
   "metadata": {
    "collapsed": false
   },
   "source": [
    "Zad 1.\n",
    "Poniższą listę spłaszcz do jednego wymiaru (wyciągnij elementy zagnieżdżone)."
   ]
  },
  {
   "cell_type": "code",
   "execution_count": 80,
   "metadata": {
    "collapsed": false
   },
   "outputs": [],
   "source": [
    "# ma powstać [1, 2, \"a, 1, 2, 1, 4, 2, 2, 3]\n",
    "# input_list = [1, 2, \"a\", [1, 2], [1, 4, 2, [2, 3]]]\n",
    "\n",
    "from more_itertools import collapse\n",
    "\n",
    "input_list = [1, 2, \"a\", [1, 2], [1, 4, 2, [2, 3]]]\n",
    "input_list2 = list(collapse(input_list))\n",
    "print(input_list2)\n"
   ]
  },
  {
   "cell_type": "markdown",
   "metadata": {
    "collapsed": false
   },
   "source": [
    "Zad 2.\n",
    "Oblicz sumę wszystkich liczb parzystych w tej liście. Możesz użyć list comprehension oraz funkcji `sum()`, obliczającej sumęelementów listy"
   ]
  },
  {
   "cell_type": "code",
   "execution_count": null,
   "metadata": {
    "collapsed": false
   },
   "outputs": [],
   "source": [
    "input_list = [1, 2, 4, 5, 1, 5, 5, 2, 5]\n",
    "suma = 0\n",
    "for el in input_list:\n",
    "    if el % 2 == 0:\n",
    "        suma += el\n",
    "print(suma)\n"
   ]
  },
  {
   "cell_type": "markdown",
   "metadata": {
    "collapsed": false
   },
   "source": [
    "Zad 3.\n",
    "Napisz funkcję `shift_list(array: list, n: int) -> list`, która przyjmuje listę i liczbę _n_, a następnie przesuwa wszystkie elementy w liście o _n_ miejsc w prawo.\n",
    "Elementy, które wychodzą poza koniec listy, powinny pojawić się na początku."
   ]
  },
  {
   "cell_type": "code",
   "execution_count": 1,
   "metadata": {
    "collapsed": false
   },
   "outputs": [
    {
     "name": "stdout",
     "output_type": "stream",
     "text": [
      "[3, 4, 5, 1, 2]\n"
     ]
    }
   ],
   "source": [
    "def shift_list(input_list: list, n: int) -> list:\n",
    "    n = n % len(input_list)\n",
    "    return input_list[-n:] + input_list[:-n]\n",
    "\n",
    "input_list = [1, 2, 3, 4, 5]\n",
    "input_list_shifted = shift_list(input_list, 3)\n",
    "print(input_list_shifted)"
   ]
  },
  {
   "cell_type": "markdown",
   "metadata": {
    "collapsed": false
   },
   "source": [
    "Zad 4.\n",
    "Podziel poniższą listę na dwie osobne, jedną z wartościami liczbowymi, a drugą z łańcuchami znaków"
   ]
  },
  {
   "cell_type": "code",
   "execution_count": 2,
   "metadata": {
    "collapsed": false
   },
   "outputs": [
    {
     "name": "stdout",
     "output_type": "stream",
     "text": [
      "Liczby: [1, 2, 3, 4, 3.2]\n",
      "Łańcuchy: ['a', 'b', 'c', '2']\n"
     ]
    }
   ],
   "source": [
    "def split_list(input_list):\n",
    "    numeric_list = []\n",
    "    string_list = []\n",
    "    \n",
    "    for item in input_list:\n",
    "        if isinstance(item, (int, float)):  \n",
    "            numeric_list.append(item)\n",
    "        elif isinstance(item, str):  \n",
    "            string_list.append(item)\n",
    "    \n",
    "    return numeric_list, string_list\n",
    "\n",
    "input_list = [1, \"a\", 2, \"b\", 3, \"c\", 4, \"2\", 3.2]\n",
    "numeric_list, string_list = split_list(input_list)\n",
    "print(\"Liczby:\", numeric_list)\n",
    "print(\"Łańcuchy:\", string_list)"
   ]
  },
  {
   "cell_type": "markdown",
   "metadata": {
    "collapsed": false
   },
   "source": [
    "Zad 4.\n",
    "Wyznacz nową listę zawierającą tylko te elementy, które występują w obu listach (bez duplikatów)."
   ]
  },
  {
   "cell_type": "code",
   "execution_count": 4,
   "metadata": {
    "collapsed": false
   },
   "outputs": [
    {
     "name": "stdout",
     "output_type": "stream",
     "text": [
      "[2, 3]\n"
     ]
    }
   ],
   "source": [
    "def wspolne_elementy(list_a, list_b):\n",
    "    return list(set(list_a) & set(list_b))\n",
    "\n",
    "list_a = [1, 2, 3]\n",
    "list_b = [2, 3, 4]\n",
    "result = wspolne_elementy(list_a, list_b)\n",
    "print(result)"
   ]
  }
 ],
 "metadata": {
  "kernelspec": {
   "display_name": "Python 3",
   "language": "python",
   "name": "python3"
  },
  "language_info": {
   "codemirror_mode": {
    "name": "ipython",
    "version": 3
   },
   "file_extension": ".py",
   "mimetype": "text/x-python",
   "name": "python",
   "nbconvert_exporter": "python",
   "pygments_lexer": "ipython3",
   "version": "3.13.0"
  }
 },
 "nbformat": 4,
 "nbformat_minor": 0
}
