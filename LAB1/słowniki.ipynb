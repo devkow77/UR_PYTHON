{
 "cells": [
  {
   "cell_type": "markdown",
   "metadata": {
    "collapsed": false
   },
   "source": [
    "# Słowniki\n",
    "Słownik (dictionary) to kolekcja par klucz-wartość. Klucze muszą być unikalne, a wartości mogą być dowolnego typu."
   ]
  },
  {
   "cell_type": "code",
   "execution_count": 1,
   "metadata": {
    "collapsed": true
   },
   "outputs": [
    {
     "name": "stdout",
     "output_type": "stream",
     "text": [
      "Imię: John\n",
      "Wiek: 25\n"
     ]
    }
   ],
   "source": [
    "# Przykład słownika\n",
    "the_dict = {\n",
    "    \"name\": \"John\",\n",
    "    \"age\": 25,\n",
    "    \"city\": \"New York\"\n",
    "}\n",
    "\n",
    "# Dostęp do wartości przez klucz\n",
    "print(f\"Imię: {the_dict['name']}\")\n",
    "print(f\"Wiek: {the_dict['age']}\")\n"
   ]
  },
  {
   "cell_type": "code",
   "execution_count": 2,
   "metadata": {
    "collapsed": false
   },
   "outputs": [
    {
     "name": "stdout",
     "output_type": "stream",
     "text": [
      "{'name': 'John', 'age': 26, 'city': 'New York'}\n",
      "{'name': 'John', 'age': 26, 'city': 'New York', 'job': 'Developer'}\n"
     ]
    }
   ],
   "source": [
    "# Modyfikowanie wartości\n",
    "the_dict['age'] = 26\n",
    "print(the_dict)\n",
    "\n",
    "# Dodawanie nowej pary klucz-wartość\n",
    "the_dict['job'] = 'Developer'\n",
    "print(the_dict)"
   ]
  },
  {
   "cell_type": "code",
   "execution_count": 4,
   "metadata": {
    "collapsed": false
   },
   "outputs": [
    {
     "name": "stdout",
     "output_type": "stream",
     "text": [
      "Miasto: New York\n"
     ]
    }
   ],
   "source": [
    "# Sprawdzanie, czy klucz istnieje w słowniku\n",
    "if 'city' in the_dict:\n",
    "    print(f\"Miasto: {the_dict['city']}\")\n",
    "else:\n",
    "    print(\"Miasto nie jest zdefiniowane\")"
   ]
  },
  {
   "cell_type": "code",
   "execution_count": 6,
   "metadata": {
    "collapsed": false
   },
   "outputs": [
    {
     "name": "stdout",
     "output_type": "stream",
     "text": [
      "Klucz: name, Wartość: John\n",
      "Klucz: age, Wartość: 26\n",
      "Klucz: city, Wartość: New York\n",
      "Klucz: job, Wartość: Developer\n",
      "\n",
      "Wartość: John\n",
      "Wartość: 26\n",
      "Wartość: New York\n",
      "Wartość: Developer\n",
      "\n",
      "Klucz: name, Wartość: John\n",
      "Klucz: age, Wartość: 26\n",
      "Klucz: city, Wartość: New York\n",
      "Klucz: job, Wartość: Developer\n",
      "\n"
     ]
    }
   ],
   "source": [
    "# Iterowanie po kluczach, wartościach i parach klucz-wartość\n",
    "for key in the_dict:\n",
    "    print(f\"Klucz: {key}, Wartość: {the_dict[key]}\")\n",
    "print()\n",
    "\n",
    "for value in the_dict.values():\n",
    "    print(f\"Wartość: {value}\")\n",
    "print()\n",
    "\n",
    "for key, value in the_dict.items():\n",
    "    print(f\"Klucz: {key}, Wartość: {value}\")\n",
    "print()"
   ]
  },
  {
   "cell_type": "markdown",
   "metadata": {
    "collapsed": false
   },
   "source": [
    "## Dictionary Comprehension\n",
    "Zwięzła metoda tworzenia słowników. Pozwala w jednym wyrażeniu wygenerować nowy słownik na podstawie istniejącej sekwencji\n",
    "`{key_expr: value_expr for item in iterable}`"
   ]
  },
  {
   "cell_type": "code",
   "execution_count": 8,
   "metadata": {
    "collapsed": false
   },
   "outputs": [
    {
     "name": "stdout",
     "output_type": "stream",
     "text": [
      "{1: 'one', 2: 'two', 3: 'three', 4: 'four', 5: 'five'}\n",
      "{1: 1, 2: 4, 3: 9, 4: 16, 5: 25}\n"
     ]
    }
   ],
   "source": [
    "numbers = [1, 2, 3, 4, 5]\n",
    "names = [\"one\", \"two\", \"three\", \"four\", \"five\"]\n",
    "\n",
    "number_names_dict = {k: v for k, v in zip(numbers, names)}\n",
    "print(number_names_dict)\n",
    "\n",
    "number_squares = {k: k**2 for k in numbers}\n",
    "print(number_squares)"
   ]
  },
  {
   "cell_type": "markdown",
   "metadata": {
    "collapsed": false
   },
   "source": [
    "# Zadania"
   ]
  },
  {
   "cell_type": "markdown",
   "metadata": {
    "collapsed": false
   },
   "source": [
    "Zad. 1\n",
    "Połącz podane słowniki w jeden:"
   ]
  },
  {
   "cell_type": "code",
   "execution_count": 1,
   "metadata": {
    "collapsed": false
   },
   "outputs": [
    {
     "name": "stdout",
     "output_type": "stream",
     "text": [
      "{'a': 1, 'b': 3, 'c': 4}\n"
     ]
    }
   ],
   "source": [
    "dict_1 = {'a': 1, 'b': 2}\n",
    "dict_2 = {'b': 3, 'c': 4}\n",
    "\n",
    "polaczone_slowniki = dict_1 | dict_2\n",
    "print(polaczone_slowniki)"
   ]
  },
  {
   "cell_type": "markdown",
   "metadata": {
    "collapsed": false
   },
   "source": [
    "Zad. 2\n",
    "Napisz kod, który odwraca słownik, to znaczy tworzy nowy słownik, w którym wartości stają się kluczami, a klucze wartościami."
   ]
  },
  {
   "cell_type": "code",
   "execution_count": 2,
   "metadata": {
    "collapsed": false
   },
   "outputs": [
    {
     "name": "stdout",
     "output_type": "stream",
     "text": [
      "{'one': 'jeden', 'two': 'dwa', 'three': 'trzy'}\n"
     ]
    }
   ],
   "source": [
    "def invert_dict(the_dict):\n",
    "    return {value: key for key, value in the_dict.items()}\n",
    "\n",
    "the_dict = {\"jeden\": \"one\", \"dwa\": \"two\", \"trzy\": \"three\"}\n",
    "inverted_dict = invert_dict(the_dict)\n",
    "print(inverted_dict)"
   ]
  },
  {
   "cell_type": "markdown",
   "metadata": {
    "collapsed": false
   },
   "source": [
    "Zad. 3\n",
    "Wykorzystując słownik, zlicz poszczególne znaki w treści tego zadania i wypisz wynik."
   ]
  },
  {
   "cell_type": "code",
   "execution_count": 4,
   "metadata": {
    "collapsed": false
   },
   "outputs": [
    {
     "name": "stdout",
     "output_type": "stream",
     "text": [
      "{'W': 1, 'y': 4, 'k': 4, 'o': 4, 'r': 2, 'z': 8, 's': 4, 't': 3, 'u': 1, 'j': 1, 'ą': 1, 'c': 4, ' ': 11, 'ł': 1, 'w': 4, 'n': 5, 'i': 8, ',': 1, 'l': 2, 'p': 2, 'e': 4, 'g': 2, 'ó': 1, 'a': 4, 'ś': 1, 'd': 1, '.': 1}\n"
     ]
    }
   ],
   "source": [
    "def oblicz_znaki(text):\n",
    "    char_count = {}\n",
    "    for char in text:\n",
    "        if char in char_count:\n",
    "            char_count[char] += 1\n",
    "        else:\n",
    "            char_count[char] = 1\n",
    "    return char_count\n",
    "\n",
    "text = \"Wykorzystując słownik, zlicz poszczególne znaki w treści tego zadania i wypisz wynik.\"\n",
    "zliczone_znaki = oblicz_znaki(text)\n",
    "print(zliczone_znaki)\n"
   ]
  },
  {
   "cell_type": "markdown",
   "metadata": {
    "collapsed": false
   },
   "source": [
    "Zad. 4\n",
    "Zlicz wystąpienia różnych elementów w poniższej liście\n",
    "Podpowiedź: Niech kluczem w słowniku będzie krotka w postaci (_wartość_, _typ_wartości_). Dzięki temu odróżnimy True od 1 i False od 0."
   ]
  },
  {
   "cell_type": "code",
   "execution_count": null,
   "metadata": {
    "collapsed": false
   },
   "outputs": [
    {
     "name": "stdout",
     "output_type": "stream",
     "text": [
      "Wartość: 1 (Typ: int) - Liczba wystąpień: 1\n",
      "Wartość: 2 (Typ: str) - Liczba wystąpień: 1\n",
      "Wartość: None (Typ: NoneType) - Liczba wystąpień: 1\n",
      "Wartość: 0 (Typ: int) - Liczba wystąpień: 1\n",
      "Wartość: False (Typ: bool) - Liczba wystąpień: 2\n",
      "Wartość: True (Typ: bool) - Liczba wystąpień: 1\n",
      "Wartość: 4 (Typ: int) - Liczba wystąpień: 2\n",
      "Wartość: 3 (Typ: str) - Liczba wystąpień: 1\n",
      "Wartość: 3 (Typ: int) - Liczba wystąpień: 1\n"
     ]
    }
   ],
   "source": [
    "def zlicz_elementy(lista):\n",
    "    licznik_elementów = {}\n",
    "    for element in lista:\n",
    "        klucz = (element, type(element))  \n",
    "        if klucz in licznik_elementów:\n",
    "            licznik_elementów[klucz] += 1\n",
    "        else:\n",
    "            licznik_elementów[klucz] = 1\n",
    "    return licznik_elementów\n",
    "\n",
    "lista_wejściowa = [1, \"2\", None, 0, False, True, 4, \"3\", 4, 3, False]\n",
    "wynik = zlicz_elementy(lista_wejściowa)\n",
    "\n",
    "for (wartość, typ), liczba in wynik.items():\n",
    "    print(f\"Wartosc: {wartość} (Typ: {typ.__name__}) - Liczba wystapien: {liczba}\")\n"
   ]
  }
 ],
 "metadata": {
  "kernelspec": {
   "display_name": "Python 3",
   "language": "python",
   "name": "python3"
  },
  "language_info": {
   "codemirror_mode": {
    "name": "ipython",
    "version": 3
   },
   "file_extension": ".py",
   "mimetype": "text/x-python",
   "name": "python",
   "nbconvert_exporter": "python",
   "pygments_lexer": "ipython3",
   "version": "3.13.0"
  }
 },
 "nbformat": 4,
 "nbformat_minor": 0
}
