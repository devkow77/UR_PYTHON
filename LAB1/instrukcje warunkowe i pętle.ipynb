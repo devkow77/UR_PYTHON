{
 "cells": [
  {
   "cell_type": "markdown",
   "metadata": {
    "collapsed": false,
    "jupyter": {
     "outputs_hidden": false
    }
   },
   "source": [
    "# Instrukcje warunkowe"
   ]
  },
  {
   "cell_type": "code",
   "execution_count": 1,
   "metadata": {
    "collapsed": false,
    "jupyter": {
     "outputs_hidden": false
    }
   },
   "outputs": [
    {
     "name": "stdout",
     "output_type": "stream",
     "text": [
      "Podana liczba jest ujemna\n"
     ]
    }
   ],
   "source": [
    "import random\n",
    "\n",
    "a = input(\"Podaj liczbę\")   # Funkcja input zwraca łańcuch znaków\n",
    "a = float(a)\n",
    "\n",
    "if a > 0:\n",
    "    print(\"Podana liczba jest dodatnia\")\n",
    "elif a < 0:\n",
    "    print(\"Podana liczba jest ujemna\")\n",
    "else:\n",
    "    print(\"Podano zero\")"
   ]
  },
  {
   "cell_type": "markdown",
   "metadata": {
    "collapsed": false,
    "jupyter": {
     "outputs_hidden": false
    }
   },
   "source": [
    "## Pętla `For`"
   ]
  },
  {
   "cell_type": "code",
   "execution_count": 1,
   "metadata": {
    "collapsed": false,
    "jupyter": {
     "outputs_hidden": false
    }
   },
   "outputs": [
    {
     "name": "stdout",
     "output_type": "stream",
     "text": [
      "0 1 2 3 4 5 6 7 8 9 \n",
      "10 11 12 13 14 15 16 17 18 19 \n",
      "2 4 6 8 10 12 14 \n",
      "20 17 14 11 8 \n",
      "1 2 3 4 5 6 \n",
      "Nie wykonano żadnej iteracji\n"
     ]
    }
   ],
   "source": [
    "# Użycie pętli z range\n",
    "\n",
    "# range(n) generuje wartości od 0 do n-1\n",
    "for i in range(10):\n",
    "    print(i, end=\" \")\n",
    "print()\n",
    "\n",
    "# range(n, k) generuje wartości od n do k-1\n",
    "for i in range(10, 20):\n",
    "    print(i, end=\" \")\n",
    "print()\n",
    "\n",
    "# range(n, k, m) generuje wartości od n do k-1, z krokiem m\n",
    "for i in range(2, 16, 2):\n",
    "    print(i, end=\" \")\n",
    "print()\n",
    "\n",
    "# Wartość kroku może być ujemna\n",
    "for i in range(20, 5, -3):\n",
    "    print(i, end=\" \")\n",
    "print()\n",
    "\n",
    "# Można iterować po kolekcjach\n",
    "numbers = [1, 2, 3, 4, 5, 6]\n",
    "for elem in numbers:\n",
    "    print(elem, end=\" \")\n",
    "print()\n",
    "\n",
    "\"\"\"\n",
    "Ciekawą, choć rzadko wykorzystywaną konstrukcją jest for..else.\n",
    "Blok else zadziała wtedy, gdy nie wykona się żadna iteracja pętli.\n",
    "Kod w instrukcji else nie wykona się, jeśli wywołamy 'break' w pętli\n",
    "\"\"\"\n",
    "array = []\n",
    "\n",
    "for elem in array:\n",
    "    print(elem)\n",
    "else:\n",
    "    print(\"Nie wykonano żadnej iteracji\")"
   ]
  },
  {
   "cell_type": "markdown",
   "metadata": {
    "collapsed": false
   },
   "source": [
    "## Pętla while i instrukcja break\n",
    "Instrukcja 'break' skutkuje całkowitym przerwaniem pętli."
   ]
  },
  {
   "cell_type": "code",
   "execution_count": 4,
   "metadata": {},
   "outputs": [
    {
     "name": "stdout",
     "output_type": "stream",
     "text": [
      "Źle\n",
      "Źle\n",
      "Dobrze\n"
     ]
    }
   ],
   "source": [
    "while True:\n",
    "    x = input(\"Podaj wynik działania 2+2:\")\n",
    "    x = float(x)\n",
    "\n",
    "    if x == 4:\n",
    "        print(\"Dobrze\")\n",
    "        break\n",
    "\n",
    "    print(\"Źle\")"
   ]
  },
  {
   "cell_type": "markdown",
   "metadata": {
    "collapsed": false
   },
   "source": [
    "## Pętla while i instrukcja continue\n",
    "Wywołanie 'continue' powoduje przerwanie wykonania bieżącej iteracji pętli i kontynuację od następnej iteracji."
   ]
  },
  {
   "cell_type": "code",
   "execution_count": 3,
   "metadata": {
    "collapsed": false
   },
   "outputs": [
    {
     "name": "stdout",
     "output_type": "stream",
     "text": [
      "Źle\n",
      "Źle\n",
      "Dobrze\n"
     ]
    }
   ],
   "source": [
    "while True:\n",
    "    x = input(\"Podaj wynik działania 2+2:\")\n",
    "    x = float(x)\n",
    "\n",
    "    if x != 4:\n",
    "        print(\"Źle\")\n",
    "        continue\n",
    "\n",
    "    print(\"Dobrze\")\n",
    "    break"
   ]
  },
  {
   "cell_type": "markdown",
   "metadata": {
    "collapsed": false,
    "jupyter": {
     "outputs_hidden": false
    }
   },
   "source": [
    "## Zadania"
   ]
  },
  {
   "cell_type": "markdown",
   "metadata": {
    "collapsed": false,
    "jupyter": {
     "outputs_hidden": false
    }
   },
   "source": [
    "Zad 1\n",
    "Napisać program, który oblicza sumę liczb od 1 do 100, które są podzielne przez 3.\n",
    "Użyć pętli for oraz instrukcji warunkowych wewnątrz pętli"
   ]
  },
  {
   "cell_type": "code",
   "execution_count": 4,
   "metadata": {
    "collapsed": true,
    "jupyter": {
     "outputs_hidden": true
    }
   },
   "outputs": [
    {
     "name": "stdout",
     "output_type": "stream",
     "text": [
      "1683\n"
     ]
    }
   ],
   "source": [
    "suma: int = 0\n",
    "\n",
    "for i in range(1, 100):\n",
    "    if i % 3 == 0:\n",
    "        suma += i\n",
    "print(suma)"
   ]
  },
  {
   "cell_type": "markdown",
   "metadata": {
    "collapsed": false,
    "jupyter": {
     "outputs_hidden": false
    }
   },
   "source": [
    "Zad 2\n",
    "Napisać program, który oblicza sumę liczb od -50 do 100, które są podzielne przez 3 lub 5, ale nie są podzielne przez 7.\n",
    "Użyć pętli for oraz instrukcji warunkowych wewnątrz pętli"
   ]
  },
  {
   "cell_type": "code",
   "execution_count": 1,
   "metadata": {
    "collapsed": false,
    "jupyter": {
     "outputs_hidden": false
    }
   },
   "outputs": [
    {
     "name": "stdout",
     "output_type": "stream",
     "text": [
      "225\n"
     ]
    }
   ],
   "source": [
    "suma: int = 0\n",
    "\n",
    "for i in range(-50, 100):\n",
    "    if((i % 3 == 0 | i % 5 == 0) & (i % 7 != 0)):\n",
    "        suma += i\n",
    "print(suma)\n",
    "\n"
   ]
  },
  {
   "cell_type": "markdown",
   "metadata": {
    "collapsed": false,
    "jupyter": {
     "outputs_hidden": false
    }
   },
   "source": [
    "Zad 3\n",
    "Napisać program, który sprawdza, czy dana liczba jest liczbą pierwszą. Użyć pętli i instrukcji warunkowej.\n",
    "Liczba pierwsza to liczba większa od 1, która dzieli się tylko przez 1 i samą siebie."
   ]
  },
  {
   "cell_type": "code",
   "execution_count": 7,
   "metadata": {
    "collapsed": false,
    "jupyter": {
     "outputs_hidden": false
    }
   },
   "outputs": [
    {
     "name": "stdout",
     "output_type": "stream",
     "text": [
      "True\n"
     ]
    }
   ],
   "source": [
    "liczba: int = 17\n",
    "liczba_pierwsza: bool = 1\n",
    "\n",
    "for i in range(2, liczba):\n",
    "    if(liczba % i == 0):\n",
    "        liczba_pierwsza = 0\n",
    "print(bool(liczba_pierwsza))"
   ]
  },
  {
   "cell_type": "markdown",
   "metadata": {
    "collapsed": false,
    "jupyter": {
     "outputs_hidden": false
    }
   },
   "source": [
    "Zad 4:\n",
    "Użytkownik podaje dwie liczby: h oraz w. Skorzystać z instrukcji `input()`\n",
    "H określa wysokość prostokąta, w szerokość.\n",
    "\n",
    "Narysować prostokąt złożony z zer i z obwódką z gwiazdek, w sposób zaprezentowany w komentarzu niżej.\n",
    "\n",
    "Uwaga: instrukcja `print()` przyjmuje argument *end*, który pozwala na zmianę znaku dodawanego na koniec wyjścia.\n",
    "Domyślnie jest to znak nowej linii `\\n`, co powoduje wyświetlanie kolejnego wyjścia w następnej linii.\n",
    "Końcowy znak można zmienić lub go usunąć, ustawiając na wartość `\"\"`\n"
   ]
  },
  {
   "cell_type": "code",
   "execution_count": null,
   "metadata": {
    "collapsed": false,
    "jupyter": {
     "outputs_hidden": false
    }
   },
   "outputs": [],
   "source": [
    "h: int = input(\"Podaj wysokosc prostokata: \")\n",
    "w: int = input(\"Podaj szerokosc prostokata: \")\n",
    "\n",
    "for i in range(0, int(h)):\n",
    "    if i == 0 or i == (int(h) - 1):\n",
    "        for j in range(0, int(w)):\n",
    "            print(\"*\", end=\" \")\n",
    "    else:\n",
    "        for j in range(0, int(w)):\n",
    "            if j == 0 or j == (int(w) - 1):\n",
    "                print(\"*\", end=\" \")\n",
    "            else:\n",
    "                print(\"0\", end=\" \")\n",
    "    print()\n",
    "        "
   ]
  },
  {
   "cell_type": "markdown",
   "metadata": {},
   "source": [
    "Zad 5:\n",
    "Rozważmy prostą grę polegającą na zgadywaniu liczby od 1 do 100. Pierwszy gracz wymyśla liczbę, drugi próbuje ją zgadnąć. Drugi gracz zgaduje wartość, jeśli mu się uda, pierwszy gracz powiadamia go o tym, w przeciwnym wypadku oświadcza, czy podana liczba jest za mała, czy za duża. Gra kończy się, gdy drugi gracz zdanie liczbę.\n",
    "\n",
    "Należy napisać kod symulujący taką grę. W tym celu należy wylosować liczbę do zgadnięcia, a następnie napisać kod symulujący proces zgadywania drugiego gracza."
   ]
  },
  {
   "cell_type": "code",
   "execution_count": null,
   "metadata": {},
   "outputs": [],
   "source": [
    "import random\n",
    "\n",
    "wylosowana_liczba: int = random.randint(1, 100)\n",
    "prawidlowa_odpowiedz: bool = 0\n",
    "odpowiedz: int\n",
    "\n",
    "print(\"Wylosowano liczbe z przedzialu [1, 100]\")\n",
    "while prawidlowa_odpowiedz == 0:\n",
    "    odpowiedz = input(\"Podaj liczbe: \")\n",
    "    if(int(odpowiedz) > wylosowana_liczba):\n",
    "        print(f\"{odpowiedz} to za duzo!\")\n",
    "    elif(int(odpowiedz) < wylosowana_liczba):\n",
    "        print(f\"{odpowiedz} to za malo!\")\n",
    "    else:\n",
    "        print(f\"Sukces! Liczba to {odpowiedz}\")\n",
    "        prawidlowa_odpowiedz = 1\n",
    "\n",
    "\n"
   ]
  }
 ],
 "metadata": {
  "kernelspec": {
   "display_name": "Python 3",
   "language": "python",
   "name": "python3"
  },
  "language_info": {
   "codemirror_mode": {
    "name": "ipython",
    "version": 3
   },
   "file_extension": ".py",
   "mimetype": "text/x-python",
   "name": "python",
   "nbconvert_exporter": "python",
   "pygments_lexer": "ipython3",
   "version": "3.13.0"
  }
 },
 "nbformat": 4,
 "nbformat_minor": 4
}
