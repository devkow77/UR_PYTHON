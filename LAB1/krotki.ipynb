{
 "cells": [
  {
   "cell_type": "markdown",
   "metadata": {
    "collapsed": false,
    "jupyter": {
     "outputs_hidden": false
    }
   },
   "source": [
    "# Krotki\n",
    "Krotka (tuple) to niezmienialna sekwencja elementów w Pythonie, która może przechowywać elementy różnych typów. Krotki są podobne do list, ale w przeciwieństwie do nich, po utworzeniu nie można ich modyfikować (dodawać, usuwać, zmieniać elementów)."
   ]
  },
  {
   "cell_type": "code",
   "execution_count": 1,
   "metadata": {
    "collapsed": false,
    "jupyter": {
     "outputs_hidden": false
    }
   },
   "outputs": [],
   "source": [
    "the_tuple = (1, 2, 3)  # Krotka z trzema elementami\n",
    "empty_tuple = ()  # Pusta krotka\n",
    "single_element_tuple = (5,)  # Krotka z jednym elementem (przecinek jest konieczny)"
   ]
  },
  {
   "cell_type": "code",
   "execution_count": 19,
   "metadata": {
    "collapsed": false,
    "jupyter": {
     "outputs_hidden": false
    }
   },
   "outputs": [
    {
     "name": "stdout",
     "output_type": "stream",
     "text": [
      "my_tuple = (10, 20, 30, 40, 50)\n",
      "my_tuple[0] = 10\n",
      "my_tuple[-1] = 50\n",
      "my_tuple[1:4] = (20, 30, 40)\n",
      "my_tuple[:3] = (10, 20, 30)\n",
      "my_tuple[2:] = (30, 40, 50)\n",
      "my_tuple[-3:-1] = (30, 40)\n"
     ]
    }
   ],
   "source": [
    "my_tuple = (10, 20, 30, 40, 50)\n",
    "\n",
    "print(f\"{my_tuple = }\")\n",
    "\n",
    "print(f\"{my_tuple[0] = }\")\n",
    "print(f\"{my_tuple[-1] = }\")\n",
    "# Wyciąganie fragmentu (indeksy od 1 do 3, nie włącznie z 4)\n",
    "\n",
    "print(f\"{my_tuple[1:4] = }\")\n",
    "\n",
    "# Wyciąganie fragmentu od początku do końca\n",
    "print(f\"{my_tuple[:3] = }\")\n",
    "\n",
    "# Wyciąganie fragmentu od indeksu 2 do końca\n",
    "print(f\"{my_tuple[2:] = }\")\n",
    "\n",
    "# Wyciąganie krotki od końca (indeksy od -3 do -1)\n",
    "print(f\"{my_tuple[-3:-1] = }\")  # Wynik: (30, 40)"
   ]
  },
  {
   "cell_type": "code",
   "execution_count": 9,
   "metadata": {
    "collapsed": false,
    "jupyter": {
     "outputs_hidden": false
    }
   },
   "outputs": [
    {
     "name": "stdout",
     "output_type": "stream",
     "text": [
      "(1, 2, 3, 4, 5, 6)\n"
     ]
    }
   ],
   "source": [
    "tuple1 = (1, 2, 3)\n",
    "tuple2 = (4, 5, 6)\n",
    "\n",
    "# Łączenie krotek\n",
    "combined_tuple = tuple1 + tuple2\n",
    "print(combined_tuple)  # Wynik: (1, 2, 3, 4, 5, 6)"
   ]
  },
  {
   "cell_type": "code",
   "execution_count": 10,
   "metadata": {
    "collapsed": false,
    "jupyter": {
     "outputs_hidden": false
    }
   },
   "outputs": [
    {
     "name": "stdout",
     "output_type": "stream",
     "text": [
      "(1, 2, 3, 1, 2, 3, 1, 2, 3)\n"
     ]
    }
   ],
   "source": [
    "my_tuple = (1, 2, 3)\n",
    "\n",
    "# Powielanie krotki 3 razy\n",
    "repeated_tuple = my_tuple * 3\n",
    "print(repeated_tuple)  # Wynik: (1, 2, 3, 1, 2, 3, 1, 2, 3)"
   ]
  },
  {
   "cell_type": "code",
   "execution_count": 4,
   "metadata": {
    "collapsed": false,
    "jupyter": {
     "outputs_hidden": false
    }
   },
   "outputs": [
    {
     "name": "stdout",
     "output_type": "stream",
     "text": [
      "1\n",
      "2\n",
      "3\n"
     ]
    }
   ],
   "source": [
    "# Rozpakowywanie krotek\n",
    "my_tuple = (1, 2, 3)\n",
    "a, b, c = my_tuple\n",
    "print(a)  # 1\n",
    "print(b)  # 2\n",
    "print(c)  # 3"
   ]
  },
  {
   "cell_type": "code",
   "execution_count": null,
   "metadata": {
    "collapsed": false,
    "jupyter": {
     "outputs_hidden": false
    }
   },
   "outputs": [],
   "source": [
    "def return_multiple_values():\n",
    "    return 1, \"abc\", 3.14\n",
    "\n",
    "result = return_multiple_values()  # Zwraca krotkę (1, 'abc', 3.14)\n"
   ]
  },
  {
   "cell_type": "code",
   "execution_count": 5,
   "metadata": {
    "collapsed": false,
    "jupyter": {
     "outputs_hidden": false
    }
   },
   "outputs": [
    {
     "name": "stdout",
     "output_type": "stream",
     "text": [
      "5\n",
      "2\n",
      "2\n"
     ]
    }
   ],
   "source": [
    "my_tuple = (1, 2, 3, 4, 3)\n",
    "print(len(my_tuple))  # 5\n",
    "print(my_tuple.count(3))  # 2\n",
    "print(my_tuple.index(3))  # 2"
   ]
  },
  {
   "cell_type": "markdown",
   "metadata": {
    "collapsed": false,
    "jupyter": {
     "outputs_hidden": false
    }
   },
   "source": [
    "# Zadania"
   ]
  },
  {
   "cell_type": "markdown",
   "metadata": {
    "collapsed": false,
    "jupyter": {
     "outputs_hidden": false
    }
   },
   "source": [
    "Zad. 1\n",
    "Utwórz krotkę z liczbami zmiennoprzecinkowymi i wyznacz największą oraz najmniejszą wartość, używając odpowiednich funkcji."
   ]
  },
  {
   "cell_type": "code",
   "execution_count": 6,
   "metadata": {
    "collapsed": false,
    "jupyter": {
     "outputs_hidden": false
    }
   },
   "outputs": [],
   "source": []
  },
  {
   "cell_type": "markdown",
   "metadata": {
    "collapsed": false,
    "jupyter": {
     "outputs_hidden": false
    }
   },
   "source": [
    "Zad. 2\n",
    "Utwórz krotkę z dowolnymi elementami i przekształć ją w listę."
   ]
  },
  {
   "cell_type": "code",
   "execution_count": null,
   "metadata": {
    "collapsed": false,
    "jupyter": {
     "outputs_hidden": false
    }
   },
   "outputs": [],
   "source": []
  },
  {
   "cell_type": "markdown",
   "metadata": {
    "collapsed": false,
    "jupyter": {
     "outputs_hidden": false
    }
   },
   "source": [
    "Zad. 3\n",
    "Zdefiniuj krotkę z parami (napis, liczba całkowita) i stwórz słownik, w którym klucze to napisy, a wartości to odpowiadające im liczby."
   ]
  },
  {
   "cell_type": "code",
   "execution_count": null,
   "metadata": {
    "collapsed": false,
    "jupyter": {
     "outputs_hidden": false
    }
   },
   "outputs": [],
   "source": []
  }
 ],
 "metadata": {
  "kernelspec": {
   "display_name": "Python 3 (ipykernel)",
   "language": "python",
   "name": "python3"
  },
  "language_info": {
   "codemirror_mode": {
    "name": "ipython",
    "version": 3
   },
   "file_extension": ".py",
   "mimetype": "text/x-python",
   "name": "python",
   "nbconvert_exporter": "python",
   "pygments_lexer": "ipython3",
   "version": "3.8.5"
  }
 },
 "nbformat": 4,
 "nbformat_minor": 4
}
